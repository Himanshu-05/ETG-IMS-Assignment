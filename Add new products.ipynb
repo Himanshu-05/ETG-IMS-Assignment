{
 "cells": [
  {
   "cell_type": "markdown",
   "metadata": {},
   "source": [
    "# Importing packages and loading JSON file into a dictionary"
   ]
  },
  {
   "cell_type": "code",
   "execution_count": 1,
   "metadata": {},
   "outputs": [],
   "source": [
    "import json"
   ]
  },
  {
   "cell_type": "code",
   "execution_count": 2,
   "metadata": {},
   "outputs": [],
   "source": [
    "fd = open(\"record.json\",'r')\n",
    "r = fd.read()\n",
    "fd.close()\n",
    "\n",
    "record = json.loads(r)"
   ]
  },
  {
   "cell_type": "markdown",
   "metadata": {},
   "source": [
    "# Function to add products to the Inventory"
   ]
  },
  {
   "cell_type": "code",
   "execution_count": 3,
   "metadata": {},
   "outputs": [],
   "source": [
    "def add_prod():\n",
    "    while True:\n",
    "        product_id = input(\"Enter unique product id: (Type \\'exit\\' to exit) \")\n",
    "        if product_id=='exit':\n",
    "            break\n",
    "        elif product_id in record.keys():\n",
    "            print(\"This medicine exists in the inventory: \",record[product_id],\"\\nDo you wish to add more quantity ? [Y/N] \")\n",
    "            choice=input()\n",
    "            if choice=='Y':\n",
    "                print(\"Enter the amount you wish to add(no. of strips): \")\n",
    "                add_quantity=int(input())\n",
    "                record[product_id]['Quantity']+=add_quantity\n",
    "                js = json.dumps(record)\n",
    "                fd = open(\"record.json\",'w')\n",
    "                fd.write(js)\n",
    "                fd.close()\n",
    "                print(\"Medicine successfully added!!\")\n",
    "                break\n",
    "            else:\n",
    "                continue\n",
    "        else:\n",
    "            name = input(\"Enter name of medicine: \")\n",
    "            mfg = input(\"Enter manufacturing date of medicine in MM/YY format: \")\n",
    "            exp = input(\"Enter expiry date of medicine in MM/YY format: \")\n",
    "            price = float(input(\"Enter price of medicine(per strip): \"))\n",
    "            quantity = int(input(\"Enter quantity of medicine(no. of strips): \"))\n",
    "            record[product_id] = {'name': name, 'MFG': mfg, 'EXP': exp, 'Price': price, 'Quantity': quantity}\n",
    "            js = json.dumps(record)\n",
    "            fd = open(\"record.json\",'w')\n",
    "            fd.write(js)\n",
    "            fd.close()\n",
    "            print(\"Medicine successfully added!!\")\n",
    "            break"
   ]
  },
  {
   "cell_type": "markdown",
   "metadata": {},
   "source": [
    "# Driver code to iteratively add the product/s"
   ]
  },
  {
   "cell_type": "code",
   "execution_count": 4,
   "metadata": {},
   "outputs": [
    {
     "name": "stdout",
     "output_type": "stream",
     "text": [
      "Do you wish to add product/s to the inventory ? [Y/N]Y\n",
      "Enter unique product id: (Type 'exit' to exit) 1051\n",
      "Enter name of medicine: Telma 40\n",
      "Enter manufacturing date of medicine in MM/YY format: 04/21\n",
      "Enter expiry date of medicine in MM/YY format: 07/23\n",
      "Enter price of medicine(per strip): 220.8\n",
      "Enter quantity of medicine(no. of strips): 25\n",
      "Medicine successfully added!!\n",
      "Add another product ? [Y/N]Y\n",
      "Enter unique product id: (Type 'exit' to exit) 1052\n",
      "Enter name of medicine: Ultracet\n",
      "Enter manufacturing date of medicine in MM/YY format: 12/20\n",
      "Enter expiry date of medicine in MM/YY format: 11/22\n",
      "Enter price of medicine(per strip): 219\n",
      "Enter quantity of medicine(no. of strips): 15\n",
      "Medicine successfully added!!\n",
      "Add another product ? [Y/N]Y\n",
      "Enter unique product id: (Type 'exit' to exit) 1033\n",
      "This medicine exists in the inventory:  {'name': 'Letroz', 'MFG': '07/21', 'EXP': '05/24', 'Price': 206.6, 'Quantity': 5} \n",
      "Do you wish to add more quantity ? [Y/N] \n",
      "Y\n",
      "Enter the amount you wish to add(no. of strips): \n",
      "5\n",
      "Medicine successfully added!!\n",
      "Add another product ? [Y/N]N\n"
     ]
    }
   ],
   "source": [
    "ch=input(\"Do you wish to add product/s to the inventory ? [Y/N]\")\n",
    "while True:\n",
    "    if ch=='Y':\n",
    "        add_prod()\n",
    "        ch=input(\"Add another product ? [Y/N]\")\n",
    "        if ch=='Y':\n",
    "            continue\n",
    "        else:\n",
    "            break"
   ]
  }
 ],
 "metadata": {
  "kernelspec": {
   "display_name": "Python 3",
   "language": "python",
   "name": "python3"
  },
  "language_info": {
   "codemirror_mode": {
    "name": "ipython",
    "version": 3
   },
   "file_extension": ".py",
   "mimetype": "text/x-python",
   "name": "python",
   "nbconvert_exporter": "python",
   "pygments_lexer": "ipython3",
   "version": "3.7.4"
  }
 },
 "nbformat": 4,
 "nbformat_minor": 2
}
